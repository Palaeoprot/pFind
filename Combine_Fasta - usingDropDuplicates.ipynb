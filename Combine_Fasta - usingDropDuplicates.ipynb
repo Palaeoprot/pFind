{
  "cells": [
    {
      "cell_type": "markdown",
      "metadata": {
        "colab_type": "text",
        "id": "view-in-github"
      },
      "source": [
        "<a href=\"https://colab.research.google.com/github/Palaeoprot/pFind/blob/Merge_NovorCloud_Fasta/Combine_Fasta.ipynb\" target=\"_parent\"><img src=\"https://colab.research.google.com/assets/colab-badge.svg\" alt=\"Open In Colab\"/></a>"
      ]
    },
    {
      "cell_type": "markdown",
      "metadata": {
        "id": "ND1EIHUXbRCa"
      },
      "source": [
        "# Description\n",
        "Function: merge .proteins.fasta files from NovorCloud results"
      ]
    },
    {
      "cell_type": "markdown",
      "metadata": {
        "id": "KIcsV9l8SIUL"
      },
      "source": [
        "# Setup"
      ]
    },
    {
      "cell_type": "code",
      "execution_count": 1,
      "metadata": {},
      "outputs": [
        {
          "name": "stdout",
          "output_type": "stream",
          "text": [
            "Defaulting to user installation because normal site-packages is not writeable\n",
            "Requirement already satisfied: biopython in c:\\users\\minimax\\appdata\\local\\packages\\pythonsoftwarefoundation.python.3.12_qbz5n2kfra8p0\\localcache\\local-packages\\python312\\site-packages (1.83)\n",
            "Requirement already satisfied: numpy in c:\\users\\minimax\\appdata\\local\\packages\\pythonsoftwarefoundation.python.3.12_qbz5n2kfra8p0\\localcache\\local-packages\\python312\\site-packages (from biopython) (1.26.4)\n"
          ]
        }
      ],
      "source": [
        "!pip install biopython"
      ]
    },
    {
      "cell_type": "markdown",
      "metadata": {},
      "source": [
        "## import packages"
      ]
    },
    {
      "cell_type": "code",
      "execution_count": 2,
      "metadata": {
        "colab": {
          "base_uri": "https://localhost:8080/"
        },
        "id": "Ocx6fpObYDqH",
        "outputId": "2c5d91b8-6428-4cf4-8b86-c438afdb646f"
      },
      "outputs": [],
      "source": [
        "import pandas as pd\n",
        "\n",
        "from Bio.Seq import Seq\n",
        "from Bio.SeqRecord import SeqRecord\n",
        "from Bio import SeqIO\n",
        "\n",
        "import os\n",
        "\n",
        "import re\n",
        "\n",
        "\n",
        "# from pathlib import Path"
      ]
    },
    {
      "cell_type": "markdown",
      "metadata": {},
      "source": [
        "## import packages for Google drive files"
      ]
    },
    {
      "cell_type": "code",
      "execution_count": null,
      "metadata": {},
      "outputs": [],
      "source": [
        "# Google Colab specific for mounting Google Drive:\n",
        "from google.colab import drive\n",
        "drive.mount('/content/drive')"
      ]
    },
    {
      "cell_type": "markdown",
      "metadata": {
        "id": "gq2TCJj1b78x"
      },
      "source": [
        "# Global variables"
      ]
    },
    {
      "cell_type": "markdown",
      "metadata": {},
      "source": [
        "## for Googole Drive files"
      ]
    },
    {
      "cell_type": "code",
      "execution_count": null,
      "metadata": {
        "id": "LCWZPxQ_cALB"
      },
      "outputs": [],
      "source": [
        "# STUDY_NAME = 'Dinosaur'\n",
        "\n",
        "# below are the google drive paths and file names\n",
        "# STUDY_NAME_1 = 'CE'\n",
        "# STUDY_NAME_2 = 'Tuuli_Masks'\n",
        "\n",
        "# BASE_PATH_CLOUD = f'/content/drive/My Drive/Colab_Notebooks/NovorCloud/'\n",
        "\n",
        "\n",
        "# FILE_NAME_CE = f'{BASE_PATH}{STUDY_NAME_1}'\n",
        "# FILE_NAME_Tuuli = f'{BASE_PATH}{STUDY_NAME_2}'\n",
        "\n",
        "\n",
        "\n",
        "# FILE_NAME_BOVINE = 'F_1 - 260423_Bovine_Collagen_1hr_1_in_1000'\n",
        "# FILE_NAME_TURKEY = 'F_2 - 260423_Turkey_Collagen_1hr_1_in_100'\n",
        "# FILE_NAME_DINOSAUR = 'F_3 - 290423_Edmontosaur_1hr_Neat'\n",
        "\n",
        "# FASTA_BOVINE = '260423_Bovine_Collagen_1hr_1_in_1000.proteins.fasta'\n",
        "# FASTA_TURKEY = '260423_Turkey_Collagen_1hr_1_in_100.proteins.fasta'\n",
        "# FASTA_DINOSAUR = '290423_Edmontosaur_1hr_Neat.proteins.fasta'\n"
      ]
    },
    {
      "cell_type": "markdown",
      "metadata": {},
      "source": [
        "## for local computer files"
      ]
    },
    {
      "cell_type": "code",
      "execution_count": 3,
      "metadata": {},
      "outputs": [],
      "source": [
        "# below are paths and file names in local computer MiniMax\n",
        "BASE_PATH_LOCAL = \"F:/Xuekai/CE&Tuuli\"\n",
        "\n",
        "STUDY_NAME = \"CE&Tuuli\""
      ]
    },
    {
      "cell_type": "markdown",
      "metadata": {},
      "source": [
        "## Settings: set the target base path AND output path of final merged fasta file"
      ]
    },
    {
      "cell_type": "code",
      "execution_count": 4,
      "metadata": {},
      "outputs": [],
      "source": [
        "# Please set your target base path\n",
        "    # target base path file contains all .proteins.fasta files\n",
        "        # Note that all .proteins.fasta files will be excuted\n",
        "TARGET_BASE_PATH = BASE_PATH_LOCAL\n",
        "\n",
        "# Please set your output path of the merged .proteins.fasta file\n",
        "    # The final merged non redundant fasta file will be name 'merged_nr.fasta' \n",
        "OUTPUT_PATH = f'{TARGET_BASE_PATH}/merged_nr.fasta'\n"
      ]
    },
    {
      "cell_type": "markdown",
      "metadata": {},
      "source": [
        "# Function 1: find_fasta_files(base_path)\n",
        "### Get all .proteins.fasta file paths in base path\n",
        "### Note that for local computer files, the hidden ones will not be included\n",
        "Walk through the directory structure starting from base_path to find all files ending with .proteins.fasta.\n",
        "Return the list of all .proteins.fasta paths"
      ]
    },
    {
      "cell_type": "code",
      "execution_count": 5,
      "metadata": {
        "colab": {
          "base_uri": "https://localhost:8080/"
        },
        "id": "fe7Gg88NgPc8",
        "outputId": "367b7eb9-4e27-41f0-c7dc-12594d2aab98"
      },
      "outputs": [
        {
          "data": {
            "text/plain": [
              "'\\nBelow is a test\\nBelow is a test\\nBelow is a test\\n'"
            ]
          },
          "execution_count": 5,
          "metadata": {},
          "output_type": "execute_result"
        }
      ],
      "source": [
        "def find_fasta_files(base_path):\n",
        "    \"\"\"\n",
        "    Walk through the directory structure starting from base_path to find all\n",
        "    files ending with .proteins.fasta.\n",
        "\n",
        "    Parameters:\n",
        "    - base_path (str): The base directory to start the search from.\n",
        "\n",
        "    Returns:\n",
        "    - list: A list of paths to .proteins.fasta files.\n",
        "    \"\"\"\n",
        "    fasta_files = []  # Initialize an empty list to store the paths of .proteins.fasta files\n",
        "    for root, dirs, files in os.walk(base_path):  # os.walk to iterate through directories and files\n",
        "        for file in files:\n",
        "            if file.endswith('.proteins.fasta'):  # Check if the file name ends with .proteins.fasta\n",
        "                fasta_files.append(os.path.join(root, file))  # Append the full path to the list\n",
        "    return fasta_files  # Return the list of paths\n",
        "\n",
        "\"\"\"\n",
        "Below is a test\n",
        "Below is a test\n",
        "Below is a test\n",
        "\"\"\"\n",
        "# # find all .proteins.fasta files for CE\n",
        "# fasta_files_CE = find_fasta_files(FILE_NAME_CE)\n",
        "# print(f\"Files found in {STUDY_NAME_1}:\")\n",
        "# for file_path in fasta_files_CE:\n",
        "#     print(file_path)\n",
        "# print(f\"Total number of .proteins.fasta files found in {STUDY_NAME_1}: {len(fasta_files_CE)}\\n\")\n",
        "\n",
        "# # find all .proteins.fasta files for Tuuli\n",
        "# fasta_files_Tuuli = find_fasta_files(FILE_NAME_Tuuli)\n",
        "# print(f\"Files found in {STUDY_NAME_2}:\")\n",
        "# for file_path in fasta_files_Tuuli:\n",
        "#     print(file_path)\n",
        "# print(f\"Total number of .proteins.fasta files found in {STUDY_NAME_2}: {len(fasta_files_Tuuli)}\")\n"
      ]
    },
    {
      "cell_type": "markdown",
      "metadata": {},
      "source": [
        "## Get .proteins.fasta file path in local computer"
      ]
    },
    {
      "cell_type": "code",
      "execution_count": 6,
      "metadata": {},
      "outputs": [],
      "source": [
        "def find_fasta_files_local(base_path):\n",
        "    \"\"\"\n",
        "    Walk through the directory structure starting from base_path to find all\n",
        "    non-hidden files ending with .proteins.fasta.\n",
        "\n",
        "    Parameters:\n",
        "    - base_path (str): The base directory to start the search from.\n",
        "\n",
        "    Returns:\n",
        "    - list: A list of paths to non-hidden .proteins.fasta files.\n",
        "    \"\"\"\n",
        "    fasta_files = []  # Initialize an empty list to store the paths of non-hidden .proteins.fasta files\n",
        "    for root, dirs, files in os.walk(base_path):  # os.walk to iterate through directories and files\n",
        "        for file in files:\n",
        "            # Check if the file name ends with .proteins.fasta and does not start with .\n",
        "            if file.endswith('.proteins.fasta') and not file.startswith('.'):\n",
        "                fasta_files.append(os.path.join(root, file))  # Append the full path to the list\n",
        "    return fasta_files  # Return the list of paths\n"
      ]
    },
    {
      "cell_type": "markdown",
      "metadata": {
        "id": "S4wTclG-m7fO"
      },
      "source": [
        "# Function 2: generate_fasta_files_list(file_paths, study_name)\n",
        "### Get Paths and give simplified names for FASTA files\n",
        "Paths will use the Function 1\n",
        "Simplified name format: {study_name}_{contents after '_' in the file name OR whole file name if no '_' in the file name}\n",
        "    Simplified name example 1:\n",
        "        file name: 20240209-0335_QEHF2_1007818_ONJ_TR_MC_CE15.proteins.fasta\n",
        "        study name: Tuuli\n",
        "        simplified name: Tuuli_CE15\n",
        "    Simplified name example 2:\n",
        "        file name: 20240209-0335QEHF21007818ONJTRMCCE15.proteins.fasta\n",
        "        study name: Tuuli\n",
        "        simplified name: Tuuli_20240209-0335QEHF21007818ONJTRMCCE15"
      ]
    },
    {
      "cell_type": "code",
      "execution_count": null,
      "metadata": {
        "id": "s5S_z3ewnEhA"
      },
      "outputs": [],
      "source": [
        "def generate_fasta_files_list(file_paths, study_name):\n",
        "    \"\"\"\n",
        "    Generates a list of tuples containing file paths and simplified file names.\n",
        "    The simplified name is constructed from the study name and a part of the original file name.\n",
        "\n",
        "    Parameters:\n",
        "    - file_paths (list): List of full file paths to .proteins.fasta files.\n",
        "    - study_name (str): The name of the study, used as a prefix for simplified file names.\n",
        "\n",
        "    Returns:\n",
        "    - list: A list of tuples, where each tuple contains (file path, simplified file name).\n",
        "    \"\"\"\n",
        "    fasta_files = []\n",
        "    for file_path in file_paths:\n",
        "        # Extract the file name from the path\n",
        "        original_file_name = os.path.basename(file_path)\n",
        "\n",
        "        # Check if '_' is in the file name\n",
        "        if '_' in original_file_name:\n",
        "            # If '_' is present, split on the last '_' and take the part after it\n",
        "            name_part = original_file_name.rsplit('_', 1)[-1].replace('.proteins.fasta', '')\n",
        "        else:\n",
        "            # If '_' is not present, remove the extension '.proteins.fasta' to use the whole file name\n",
        "            name_part = original_file_name.replace('.proteins.fasta', '')\n",
        "\n",
        "        # Construct the simplified file name\n",
        "        simplified_name = f\"{study_name}_{name_part}\"\n",
        "        # Append the tuple to the list\n",
        "        fasta_files.append((file_path, simplified_name))\n",
        "\n",
        "    return fasta_files\n",
        "\n",
        "\n",
        "# # Retrieve file paths using FILE_NAME_CE\n",
        "# fasta_files_CE = find_fasta_files(FILE_NAME_CE)\n",
        "# # Generate a list of fasta_files\n",
        "# fasta_files_list_CE = generate_fasta_files_list(fasta_files_CE, STUDY_NAME_1)\n",
        "# # Print each element followed by a newline\n",
        "# for file_info in fasta_files_list_CE:\n",
        "#     print(file_info)\n",
        "# print()  # Add an empty line between the two lists for clarity\n",
        "\n",
        "# # Retrieve file paths using FILE_NAME_Tuuli\n",
        "# fasta_files_Tuuli = find_fasta_files(FILE_NAME_Tuuli)\n",
        "# # Generate a list of fasta_files\n",
        "# fasta_files_list_Tuuli = generate_fasta_files_list(fasta_files_Tuuli, STUDY_NAME_2)\n",
        "# # Print each element followed by a newline\n",
        "# for file_info in fasta_files_list_Tuuli:\n",
        "#     print(file_info)\n",
        "\n"
      ]
    },
    {
      "cell_type": "markdown",
      "metadata": {},
      "source": [
        "## Function 2.2: Get Paths and give simplified names for FASTA files, file name is the content before the first '_'\n"
      ]
    },
    {
      "cell_type": "code",
      "execution_count": 7,
      "metadata": {},
      "outputs": [],
      "source": [
        "def generate_fasta_files_list(file_paths, study_name):\n",
        "    \"\"\"\n",
        "    Generates a list of tuples containing file paths and simplified file names.\n",
        "    The simplified name is constructed from the study name and the part of the original file name before the first '_'.\n",
        "\n",
        "    Parameters:\n",
        "    - file_paths (list): List of full file paths to .proteins.fasta files.\n",
        "    - study_name (str): The name of the study, used as a prefix for simplified file names.\n",
        "\n",
        "    Returns:\n",
        "    - list: A list of tuples, where each tuple contains (file path, simplified file name).\n",
        "    \"\"\"\n",
        "    fasta_files = []\n",
        "    for file_path in file_paths:\n",
        "        # Extract the file name from the path\n",
        "        original_file_name = os.path.basename(file_path)\n",
        "\n",
        "        # Split on the first '_' and take the part before it\n",
        "        name_part = original_file_name.split('_', 1)[0]\n",
        "\n",
        "        # Construct the simplified file name\n",
        "        simplified_name = f\"{study_name}_{name_part}\"\n",
        "        # Append the tuple to the list\n",
        "        fasta_files.append((file_path, simplified_name))\n",
        "\n",
        "    return fasta_files\n"
      ]
    },
    {
      "cell_type": "markdown",
      "metadata": {},
      "source": [
        "# Function 3-5: Using concat and drop_duplicates\n",
        "Simple description:\n",
        "Above is to get all the files ending with .proteins.fasta and give each a simplified name. In each .proteins.fasta file, there are some information in columns about peptide information like'GeneID', 'Protein', 'Species', 'Database', 'ProteinNO', 'Seq'. Now I want to merge all the fasta files using 'seq' as the key(consider using .concat), and then to remove all duplicate rows, keeping the first occurrence (consider using .drop_duplicates()). After merging, make the column ''ProteinNO'' have new numbers starting from 1. At the same time, add A new columns to the merged fasta file, which are 'originFile&NO': 'originFile&NO' contains the simplified names and 'ProteinNO' of all duplicate rows using 'seq' as the key, now put all these names and 'ProteinNO' for the one that has been kept in the dataframe in the 'originFile' of the first one that has been kept. The format of 'originFile&NO' is '{simplified_name}#{ProteinNO}#'"
      ]
    },
    {
      "cell_type": "markdown",
      "metadata": {},
      "source": [
        "# Function 3: read_fasta_to_df(file_path, simplified_name)"
      ]
    },
    {
      "cell_type": "code",
      "execution_count": 8,
      "metadata": {},
      "outputs": [],
      "source": [
        "def read_fasta_to_df(file_path, simplified_name):\n",
        "    \"\"\"\n",
        "    Read a .fasta file and convert it to a DataFrame.\n",
        "    \"\"\"\n",
        "    records = list(SeqIO.parse(file_path, \"fasta\"))\n",
        "    data = []\n",
        "    for record in records:\n",
        "        # Extract 'Species', 'Protein', 'Database', and 'OriginNO' from the description\n",
        "        species_match = re.search(r\"\\[(.*?)\\]\", record.description)\n",
        "        species = species_match.group(1) if species_match else ''\n",
        "        \n",
        "        protein_match = re.search(r\"^\\S+\\s+(.*?)(?:\\s+\\[|$)\", record.description)\n",
        "        protein = protein_match.group(1) if protein_match else ''\n",
        "        \n",
        "        database_match = re.search(r\"\\{(.*?)\\}\", record.description)\n",
        "        database = database_match.group(1) if database_match else ''\n",
        "        \n",
        "        origin_no_match = re.search(r\"#(\\d+)#\", record.description)\n",
        "        origin_no = origin_no_match.group(1) if origin_no_match else ''\n",
        "        \n",
        "        data.append({\n",
        "            'GeneID': record.id,\n",
        "            'Protein': protein,\n",
        "            'Species': species,\n",
        "            'Database': database,\n",
        "            'OriginNO': origin_no,\n",
        "            'Seq': str(record.seq),\n",
        "            'OriginFile': simplified_name,\n",
        "        })\n",
        "\n",
        "    return pd.DataFrame(data)"
      ]
    },
    {
      "cell_type": "markdown",
      "metadata": {},
      "source": [
        "# Function 4: merge_and_clean_fasta(fasta_files_list)"
      ]
    },
    {
      "cell_type": "code",
      "execution_count": 9,
      "metadata": {},
      "outputs": [],
      "source": [
        "def merge_and_clean_fasta(fasta_files_list):\n",
        "    \"\"\"\n",
        "    Merge, clean, and renumber .fasta files, and update origin information.\n",
        "    \"\"\"\n",
        "    all_dfs = []\n",
        "    for file_path, simplified_name in fasta_files_list:\n",
        "        df = read_fasta_to_df(file_path, simplified_name)\n",
        "        df['originFile&NO'] = df['OriginFile'] + '#' + df['OriginNO'] + '#'\n",
        "        all_dfs.append(df)\n",
        "\n",
        "    merged_df = pd.concat(all_dfs, ignore_index=True)\n",
        "    merged_df = merged_df.groupby('Seq').agg({\n",
        "        'GeneID': 'first',\n",
        "        'Protein': 'first',\n",
        "        'Species': 'first',\n",
        "        'Database': 'first',\n",
        "        'originFile&NO': lambda x: '; '.join(x)\n",
        "    }).reset_index()\n",
        "    merged_df['ProteinNO'] = range(1, len(merged_df) + 1)\n",
        "    \n",
        "    return merged_df"
      ]
    },
    {
      "cell_type": "markdown",
      "metadata": {},
      "source": [
        "# Function 5: df_to_fasta(merged_df, output_fasta_path)"
      ]
    },
    {
      "cell_type": "code",
      "execution_count": 10,
      "metadata": {},
      "outputs": [],
      "source": [
        "def df_to_fasta(merged_df, output_fasta_path):\n",
        "    \"\"\"\n",
        "    Convert the merged DataFrame to a .fasta file.\n",
        "    \"\"\"\n",
        "    seq_records = []\n",
        "    for _, row in merged_df.iterrows():\n",
        "        seq_record = SeqRecord(\n",
        "            Seq(row['Seq']),\n",
        "            id=row['GeneID'],\n",
        "            description=f\"{row['Protein']} [{row['Species']}] {{{row['Database']}}} |{row['originFile&NO']}| #{row['ProteinNO']}#\"\n",
        "        )\n",
        "        seq_records.append(seq_record)\n",
        "\n",
        "    with open(output_fasta_path, 'w') as output_handle:\n",
        "        SeqIO.write(seq_records, output_handle, 'fasta')"
      ]
    },
    {
      "cell_type": "markdown",
      "metadata": {},
      "source": [
        "# Function 6: calculate_redundancy(merged_df)"
      ]
    },
    {
      "cell_type": "code",
      "execution_count": 11,
      "metadata": {},
      "outputs": [],
      "source": [
        "def calculate_redundancy(merged_df):\n",
        "    \"\"\"\n",
        "    Calculate the redundancy of sequences based on their presence in original files.\n",
        "    \"\"\"\n",
        "    merged_df['Redundancy'] = merged_df['originFile&NO'].apply(lambda x: len(set(x.split(';'))))\n",
        "\n",
        "    redundancy_counts = merged_df['Redundancy'].value_counts().sort_index()\n",
        "    \n",
        "    return redundancy_counts"
      ]
    },
    {
      "cell_type": "markdown",
      "metadata": {},
      "source": [
        "# Main"
      ]
    },
    {
      "cell_type": "code",
      "execution_count": 12,
      "metadata": {},
      "outputs": [
        {
          "name": "stdout",
          "output_type": "stream",
          "text": [
            "Redundancy Counts:\n",
            "Redundancy\n",
            "1     135436\n",
            "2      80466\n",
            "3      41986\n",
            "4      19872\n",
            "5      22114\n",
            "6      18846\n",
            "7      15430\n",
            "8      15600\n",
            "9       5731\n",
            "10      4273\n",
            "11      8850\n",
            "12      6065\n",
            "13     14217\n",
            "14      6744\n",
            "15     10602\n",
            "16      1232\n",
            "17      1243\n",
            "18      1281\n",
            "19      2341\n",
            "20      1853\n",
            "21      2672\n",
            "22        33\n",
            "Name: count, dtype: int64\n"
          ]
        }
      ],
      "source": [
        "\"\"\"\n",
        "  Function 1\n",
        "    Function 1\n",
        "      Function 1\n",
        "\n",
        "  \"\"\"\n",
        "# Function 1\n",
        "# find all .proteins.fasta files in base path\n",
        "fasta_files = find_fasta_files_local(TARGET_BASE_PATH) ### replace the base path in the ()\n",
        "\n",
        "# # Below is to print all paths of fasta files\n",
        "# print(f\"Files found:\")\n",
        "# for file_path in fasta_files_minimax:\n",
        "#     print(file_path)\n",
        "# print(f\"Total number of .proteins.fasta files found: {len(fasta_files_minimax)}\\n\")\n",
        "\n",
        "\n",
        "\"\"\"\n",
        "  Function 2\n",
        "     Function 2\n",
        "         Function 2\n",
        "\n",
        "  \"\"\"\n",
        "# Function 2\n",
        "# Generate a list of fasta_files\n",
        "fasta_files_list = generate_fasta_files_list(fasta_files, STUDY_NAME)\n",
        "\n",
        "# # Below is to print how many items in the list generated\n",
        "# Print each element in the list followed by a newline\n",
        "# counter\n",
        "# counter = 0\n",
        "# for file_info in fasta_files_list_minimax:\n",
        "#     counter += 1\n",
        "#     print(file_info)\n",
        "# print(f\"Total number of .proteins.fasta files with simplied names found in 'Tuuli&CateData': {counter}\")\n",
        "\n",
        "\"\"\"\n",
        "  Below is a test to make a list with only first 4 items in the list of (file_path, simplified_name) tuples\n",
        "  \"\"\"\n",
        "# # Select the first two items from the list and merge them into a new list\n",
        "# fasta_file_test_4 = fasta_files_list_minimax[:4]\n",
        "\n",
        "# # Print each element in the new merged list followed by a newline\n",
        "# for file_info in fasta_file_test_4:\n",
        "#     print(file_info)\n",
        "\n",
        "\n",
        "\"\"\"\n",
        "  Function 3 is used in Function 4\n",
        "     Function 3 is used in Function 4\n",
        "         Function 3 is used in Function 4\n",
        "\n",
        "  \"\"\"\n",
        "\n",
        "\"\"\"\n",
        "  Function 4\n",
        "      Function 4\n",
        "          Function 4\n",
        "  \"\"\"\n",
        "# Function 4 use\n",
        "merged_df = merge_and_clean_fasta(fasta_files_list)\n",
        "\n",
        "\"\"\"\n",
        "  Function 5\n",
        "      Function 5\n",
        "          Function 5\n",
        "  \"\"\"\n",
        "# Function 5\n",
        "df_to_fasta(merged_df, OUTPUT_PATH)\n",
        "\n",
        "\"\"\"\n",
        "  Function 6\n",
        "      Function 6\n",
        "          Function 6\n",
        "  \"\"\"\n",
        "# Function 6\n",
        "redundancy_counts = calculate_redundancy(merged_df)\n",
        "\n",
        "print(\"Redundancy Counts:\")\n",
        "print(redundancy_counts)"
      ]
    }
  ],
  "metadata": {
    "colab": {
      "collapsed_sections": [
        "1Vf041aOf8DD",
        "He18uQCnTvJR",
        "7tfaNqtdUD3y"
      ],
      "include_colab_link": true,
      "provenance": [],
      "toc_visible": true
    },
    "kernelspec": {
      "display_name": "Python 3",
      "name": "python3"
    },
    "language_info": {
      "codemirror_mode": {
        "name": "ipython",
        "version": 3
      },
      "file_extension": ".py",
      "mimetype": "text/x-python",
      "name": "python",
      "nbconvert_exporter": "python",
      "pygments_lexer": "ipython3",
      "version": "3.12.2"
    }
  },
  "nbformat": 4,
  "nbformat_minor": 0
}
